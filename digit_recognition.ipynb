{
  "nbformat": 4,
  "nbformat_minor": 0,
  "metadata": {
    "colab": {
      "provenance": [],
      "gpuType": "T4"
    },
    "kernelspec": {
      "name": "python3",
      "display_name": "Python 3"
    },
    "language_info": {
      "name": "python"
    },
    "accelerator": "GPU"
  },
  "cells": [
    {
      "cell_type": "code",
      "source": [
        "!unzip -q '/content/drive/MyDrive/AI Team/Tasks/2023-09-Sprint2/Digit_Recognition.zip' -d '/content/'"
      ],
      "metadata": {
        "id": "U3kxKY7zRoRd"
      },
      "execution_count": null,
      "outputs": []
    },
    {
      "cell_type": "code",
      "source": [
        "import numpy as np\n",
        "import os\n",
        "import json\n",
        "from PIL import Image"
      ],
      "metadata": {
        "id": "y3QDo1pKLFll"
      },
      "execution_count": null,
      "outputs": []
    },
    {
      "cell_type": "code",
      "source": [
        "%ls"
      ],
      "metadata": {
        "colab": {
          "base_uri": "https://localhost:8080/"
        },
        "id": "u2invLGlSL0k",
        "outputId": "0a4606b2-f670-4f5e-d2a4-f99de9351229"
      },
      "execution_count": null,
      "outputs": [
        {
          "output_type": "stream",
          "name": "stdout",
          "text": [
            "\u001b[0m\u001b[01;34mData\u001b[0m/  \u001b[01;34mdrive\u001b[0m/  labels.json  \u001b[01;34msample_data\u001b[0m/\n"
          ]
        }
      ]
    },
    {
      "cell_type": "code",
      "source": [
        "with open('/content/labels.json', 'r') as f:\n",
        "    data = json.load(f)\n",
        "\n",
        "labels = data['labels']\n",
        "image_dir = '/content/Data/'\n",
        "\n",
        "images = []\n",
        "image_labels = []\n",
        "progress = 0\n",
        "\n",
        "for label_data in labels:\n",
        "  filename = os.path.join(image_dir, label_data['filename'])\n",
        "  label = label_data['label']\n",
        "\n",
        "  image = Image.open(filename)\n",
        "  image_array = np.array(image).flatten()\n",
        "\n",
        "  images.append(image_array)\n",
        "  image_labels.append(label)\n",
        "\n",
        "  progress += 1\n",
        "  if progress % 100 == 0:\n",
        "    print(f'Progress: {progress} / 8000')\n",
        "\n",
        "images = np.array(images, dtype=np.float64)\n",
        "image_labels = np.array(image_labels)"
      ],
      "metadata": {
        "colab": {
          "base_uri": "https://localhost:8080/"
        },
        "id": "oLA5CoB4PgMI",
        "outputId": "c2667cac-0114-41e0-8a48-d2fab6069485"
      },
      "execution_count": null,
      "outputs": [
        {
          "output_type": "stream",
          "name": "stdout",
          "text": [
            "Progress: 100 / 8000\n",
            "Progress: 200 / 8000\n",
            "Progress: 300 / 8000\n",
            "Progress: 400 / 8000\n",
            "Progress: 500 / 8000\n",
            "Progress: 600 / 8000\n",
            "Progress: 700 / 8000\n",
            "Progress: 800 / 8000\n",
            "Progress: 900 / 8000\n",
            "Progress: 1000 / 8000\n",
            "Progress: 1100 / 8000\n",
            "Progress: 1200 / 8000\n",
            "Progress: 1300 / 8000\n",
            "Progress: 1400 / 8000\n",
            "Progress: 1500 / 8000\n",
            "Progress: 1600 / 8000\n",
            "Progress: 1700 / 8000\n",
            "Progress: 1800 / 8000\n",
            "Progress: 1900 / 8000\n",
            "Progress: 2000 / 8000\n",
            "Progress: 2100 / 8000\n",
            "Progress: 2200 / 8000\n",
            "Progress: 2300 / 8000\n",
            "Progress: 2400 / 8000\n",
            "Progress: 2500 / 8000\n",
            "Progress: 2600 / 8000\n",
            "Progress: 2700 / 8000\n",
            "Progress: 2800 / 8000\n",
            "Progress: 2900 / 8000\n",
            "Progress: 3000 / 8000\n",
            "Progress: 3100 / 8000\n",
            "Progress: 3200 / 8000\n",
            "Progress: 3300 / 8000\n",
            "Progress: 3400 / 8000\n",
            "Progress: 3500 / 8000\n",
            "Progress: 3600 / 8000\n",
            "Progress: 3700 / 8000\n",
            "Progress: 3800 / 8000\n",
            "Progress: 3900 / 8000\n",
            "Progress: 4000 / 8000\n",
            "Progress: 4100 / 8000\n",
            "Progress: 4200 / 8000\n",
            "Progress: 4300 / 8000\n",
            "Progress: 4400 / 8000\n",
            "Progress: 4500 / 8000\n",
            "Progress: 4600 / 8000\n",
            "Progress: 4700 / 8000\n",
            "Progress: 4800 / 8000\n",
            "Progress: 4900 / 8000\n",
            "Progress: 5000 / 8000\n",
            "Progress: 5100 / 8000\n",
            "Progress: 5200 / 8000\n",
            "Progress: 5300 / 8000\n",
            "Progress: 5400 / 8000\n",
            "Progress: 5500 / 8000\n",
            "Progress: 5600 / 8000\n",
            "Progress: 5700 / 8000\n",
            "Progress: 5800 / 8000\n",
            "Progress: 5900 / 8000\n",
            "Progress: 6000 / 8000\n",
            "Progress: 6100 / 8000\n",
            "Progress: 6200 / 8000\n",
            "Progress: 6300 / 8000\n",
            "Progress: 6400 / 8000\n",
            "Progress: 6500 / 8000\n",
            "Progress: 6600 / 8000\n",
            "Progress: 6700 / 8000\n",
            "Progress: 6800 / 8000\n",
            "Progress: 6900 / 8000\n",
            "Progress: 7000 / 8000\n",
            "Progress: 7100 / 8000\n",
            "Progress: 7200 / 8000\n",
            "Progress: 7300 / 8000\n",
            "Progress: 7400 / 8000\n",
            "Progress: 7500 / 8000\n",
            "Progress: 7600 / 8000\n",
            "Progress: 7700 / 8000\n",
            "Progress: 7800 / 8000\n",
            "Progress: 7900 / 8000\n",
            "Progress: 8000 / 8000\n"
          ]
        }
      ]
    },
    {
      "cell_type": "code",
      "source": [
        "X_train = images[:7000]\n",
        "y_train = image_labels[:7000]\n",
        "\n",
        "X_test = images[7000:]\n",
        "y_test = image_labels[7000:]"
      ],
      "metadata": {
        "id": "k1p1pU3UQrMD"
      },
      "execution_count": null,
      "outputs": []
    },
    {
      "cell_type": "code",
      "source": [
        "print(f\"length of X_train = {len(X_train)} length of y_train = {len(y_train)}\")"
      ],
      "metadata": {
        "id": "oHbL6j5epaZw",
        "colab": {
          "base_uri": "https://localhost:8080/"
        },
        "outputId": "9abfff0a-64ab-4495-c9bc-c4d60ecfc35f"
      },
      "execution_count": null,
      "outputs": [
        {
          "output_type": "stream",
          "name": "stdout",
          "text": [
            "length of X_train = 7000 length of y_train = 7000\n"
          ]
        }
      ]
    },
    {
      "cell_type": "code",
      "source": [
        "print(f\"length of X_train = {len(X_test)} length of y_train = {len(y_test)}\")"
      ],
      "metadata": {
        "colab": {
          "base_uri": "https://localhost:8080/"
        },
        "id": "u_ZW0LB36sfH",
        "outputId": "b764891f-e873-4cb4-f7f8-b842506fddf8"
      },
      "execution_count": null,
      "outputs": [
        {
          "output_type": "stream",
          "name": "stdout",
          "text": [
            "length of X_train = 1000 length of y_train = 1000\n"
          ]
        }
      ]
    },
    {
      "cell_type": "markdown",
      "source": [
        "## **Normalizing the X data**"
      ],
      "metadata": {
        "id": "EUg9Y3Jn7QWJ"
      }
    },
    {
      "cell_type": "code",
      "source": [
        "import tensorflow as tf"
      ],
      "metadata": {
        "id": "T61Nvc6R7iiD"
      },
      "execution_count": null,
      "outputs": []
    },
    {
      "cell_type": "code",
      "source": [
        "X_train = tf.keras.utils.normalize(X_train, axis =1)"
      ],
      "metadata": {
        "id": "Eu0vAcFC7CWO"
      },
      "execution_count": null,
      "outputs": []
    },
    {
      "cell_type": "code",
      "source": [
        "X_test = tf.keras.utils.normalize(X_test, axis =1)"
      ],
      "metadata": {
        "id": "PsnAoeBR7GRP"
      },
      "execution_count": null,
      "outputs": []
    },
    {
      "cell_type": "markdown",
      "source": [
        "## **Building the Model**"
      ],
      "metadata": {
        "id": "-BeKMOVh79z-"
      }
    },
    {
      "cell_type": "code",
      "source": [
        "model = tf.keras.models.Sequential()"
      ],
      "metadata": {
        "id": "2edBbJlY762r"
      },
      "execution_count": null,
      "outputs": []
    },
    {
      "cell_type": "code",
      "source": [
        "model.add(tf.keras.layers.Flatten(input_shape=(28,28)))"
      ],
      "metadata": {
        "id": "zYS_jWtl8Oij"
      },
      "execution_count": null,
      "outputs": []
    },
    {
      "cell_type": "code",
      "source": [
        "model.add(tf.keras.layers.Dense(128,activation='relu'))"
      ],
      "metadata": {
        "id": "Tn_gVoSN8hz3"
      },
      "execution_count": null,
      "outputs": []
    },
    {
      "cell_type": "code",
      "source": [
        "model.add(tf.keras.layers.Dense(128,activation='relu'))"
      ],
      "metadata": {
        "id": "9dIK5x6N8uOh"
      },
      "execution_count": null,
      "outputs": []
    },
    {
      "cell_type": "code",
      "source": [
        "model.add(tf.keras.layers.Dense(10,activation='softmax'))"
      ],
      "metadata": {
        "id": "2cyAV_CB8w3h"
      },
      "execution_count": null,
      "outputs": []
    },
    {
      "cell_type": "code",
      "source": [
        "model.compile(optimizer='adam',loss='sparse_categorical_crossentropy',metrics=['accuracy'])"
      ],
      "metadata": {
        "id": "zUbJtWPq81CR"
      },
      "execution_count": null,
      "outputs": []
    },
    {
      "cell_type": "code",
      "source": [
        "model.fit(X_train,y_train,epochs=100)"
      ],
      "metadata": {
        "colab": {
          "base_uri": "https://localhost:8080/"
        },
        "id": "o8udYAe29miW",
        "outputId": "6eb3e2b9-cde7-4f9b-8eca-f79b18a634a2"
      },
      "execution_count": null,
      "outputs": [
        {
          "output_type": "stream",
          "name": "stdout",
          "text": [
            "Epoch 1/100\n",
            "219/219 [==============================] - 1s 3ms/step - loss: 0.0649 - accuracy: 0.9811\n",
            "Epoch 2/100\n",
            "219/219 [==============================] - 1s 3ms/step - loss: 0.0522 - accuracy: 0.9849\n",
            "Epoch 3/100\n",
            "219/219 [==============================] - 1s 4ms/step - loss: 0.0424 - accuracy: 0.9899\n",
            "Epoch 4/100\n",
            "219/219 [==============================] - 1s 4ms/step - loss: 0.0342 - accuracy: 0.9927\n",
            "Epoch 5/100\n",
            "219/219 [==============================] - 1s 4ms/step - loss: 0.0283 - accuracy: 0.9940\n",
            "Epoch 6/100\n",
            "219/219 [==============================] - 1s 5ms/step - loss: 0.0214 - accuracy: 0.9967\n",
            "Epoch 7/100\n",
            "219/219 [==============================] - 1s 4ms/step - loss: 0.0182 - accuracy: 0.9971\n",
            "Epoch 8/100\n",
            "219/219 [==============================] - 1s 3ms/step - loss: 0.0159 - accuracy: 0.9977\n",
            "Epoch 9/100\n",
            "219/219 [==============================] - 1s 3ms/step - loss: 0.0126 - accuracy: 0.9987\n",
            "Epoch 10/100\n",
            "219/219 [==============================] - 1s 3ms/step - loss: 0.0093 - accuracy: 0.9997\n",
            "Epoch 11/100\n",
            "219/219 [==============================] - 1s 3ms/step - loss: 0.0090 - accuracy: 0.9996\n",
            "Epoch 12/100\n",
            "219/219 [==============================] - 1s 3ms/step - loss: 0.0058 - accuracy: 1.0000\n",
            "Epoch 13/100\n",
            "219/219 [==============================] - 1s 3ms/step - loss: 0.0054 - accuracy: 0.9997\n",
            "Epoch 14/100\n",
            "219/219 [==============================] - 1s 3ms/step - loss: 0.0044 - accuracy: 0.9999\n",
            "Epoch 15/100\n",
            "219/219 [==============================] - 1s 4ms/step - loss: 0.0036 - accuracy: 1.0000\n",
            "Epoch 16/100\n",
            "219/219 [==============================] - 1s 4ms/step - loss: 0.0025 - accuracy: 1.0000\n",
            "Epoch 17/100\n",
            "219/219 [==============================] - 1s 4ms/step - loss: 0.0022 - accuracy: 1.0000\n",
            "Epoch 18/100\n",
            "219/219 [==============================] - 1s 3ms/step - loss: 0.0022 - accuracy: 1.0000\n",
            "Epoch 19/100\n",
            "219/219 [==============================] - 1s 3ms/step - loss: 0.0060 - accuracy: 0.9984\n",
            "Epoch 20/100\n",
            "219/219 [==============================] - 1s 3ms/step - loss: 0.0293 - accuracy: 0.9890\n",
            "Epoch 21/100\n",
            "219/219 [==============================] - 1s 4ms/step - loss: 0.0214 - accuracy: 0.9926\n",
            "Epoch 22/100\n",
            "219/219 [==============================] - 1s 4ms/step - loss: 0.0027 - accuracy: 0.9999\n",
            "Epoch 23/100\n",
            "219/219 [==============================] - 1s 5ms/step - loss: 0.0012 - accuracy: 1.0000\n",
            "Epoch 24/100\n",
            "219/219 [==============================] - 1s 4ms/step - loss: 9.4978e-04 - accuracy: 1.0000\n",
            "Epoch 25/100\n",
            "219/219 [==============================] - 1s 4ms/step - loss: 8.2412e-04 - accuracy: 1.0000\n",
            "Epoch 26/100\n",
            "219/219 [==============================] - 1s 3ms/step - loss: 7.0017e-04 - accuracy: 1.0000\n",
            "Epoch 27/100\n",
            "219/219 [==============================] - 1s 3ms/step - loss: 6.1065e-04 - accuracy: 1.0000\n",
            "Epoch 28/100\n",
            "219/219 [==============================] - 1s 3ms/step - loss: 5.6249e-04 - accuracy: 1.0000\n",
            "Epoch 29/100\n",
            "219/219 [==============================] - 1s 3ms/step - loss: 5.0517e-04 - accuracy: 1.0000\n",
            "Epoch 30/100\n",
            "219/219 [==============================] - 1s 3ms/step - loss: 4.5775e-04 - accuracy: 1.0000\n",
            "Epoch 31/100\n",
            "219/219 [==============================] - 1s 3ms/step - loss: 4.1690e-04 - accuracy: 1.0000\n",
            "Epoch 32/100\n",
            "219/219 [==============================] - 1s 3ms/step - loss: 3.7368e-04 - accuracy: 1.0000\n",
            "Epoch 33/100\n",
            "219/219 [==============================] - 1s 3ms/step - loss: 3.3820e-04 - accuracy: 1.0000\n",
            "Epoch 34/100\n",
            "219/219 [==============================] - 1s 3ms/step - loss: 3.1476e-04 - accuracy: 1.0000\n",
            "Epoch 35/100\n",
            "219/219 [==============================] - 1s 3ms/step - loss: 2.8473e-04 - accuracy: 1.0000\n",
            "Epoch 36/100\n",
            "219/219 [==============================] - 1s 3ms/step - loss: 2.5630e-04 - accuracy: 1.0000\n",
            "Epoch 37/100\n",
            "219/219 [==============================] - 1s 3ms/step - loss: 2.3795e-04 - accuracy: 1.0000\n",
            "Epoch 38/100\n",
            "219/219 [==============================] - 1s 3ms/step - loss: 2.1597e-04 - accuracy: 1.0000\n",
            "Epoch 39/100\n",
            "219/219 [==============================] - 1s 4ms/step - loss: 1.9560e-04 - accuracy: 1.0000\n",
            "Epoch 40/100\n",
            "219/219 [==============================] - 1s 5ms/step - loss: 1.7380e-04 - accuracy: 1.0000\n",
            "Epoch 41/100\n",
            "219/219 [==============================] - 1s 4ms/step - loss: 1.5649e-04 - accuracy: 1.0000\n",
            "Epoch 42/100\n",
            "219/219 [==============================] - 1s 4ms/step - loss: 1.4250e-04 - accuracy: 1.0000\n",
            "Epoch 43/100\n",
            "219/219 [==============================] - 1s 4ms/step - loss: 1.2807e-04 - accuracy: 1.0000\n",
            "Epoch 44/100\n",
            "219/219 [==============================] - 1s 3ms/step - loss: 1.1461e-04 - accuracy: 1.0000\n",
            "Epoch 45/100\n",
            "219/219 [==============================] - 1s 4ms/step - loss: 1.0180e-04 - accuracy: 1.0000\n",
            "Epoch 46/100\n",
            "219/219 [==============================] - 1s 4ms/step - loss: 9.3396e-05 - accuracy: 1.0000\n",
            "Epoch 47/100\n",
            "219/219 [==============================] - 1s 4ms/step - loss: 8.3417e-05 - accuracy: 1.0000\n",
            "Epoch 48/100\n",
            "219/219 [==============================] - 1s 3ms/step - loss: 7.4835e-05 - accuracy: 1.0000\n",
            "Epoch 49/100\n",
            "219/219 [==============================] - 1s 3ms/step - loss: 6.6943e-05 - accuracy: 1.0000\n",
            "Epoch 50/100\n",
            "219/219 [==============================] - 1s 3ms/step - loss: 5.9973e-05 - accuracy: 1.0000\n",
            "Epoch 51/100\n",
            "219/219 [==============================] - 1s 3ms/step - loss: 5.2239e-05 - accuracy: 1.0000\n",
            "Epoch 52/100\n",
            "219/219 [==============================] - 1s 3ms/step - loss: 4.7203e-05 - accuracy: 1.0000\n",
            "Epoch 53/100\n",
            "219/219 [==============================] - 1s 3ms/step - loss: 4.1639e-05 - accuracy: 1.0000\n",
            "Epoch 54/100\n",
            "219/219 [==============================] - 1s 3ms/step - loss: 3.6986e-05 - accuracy: 1.0000\n",
            "Epoch 55/100\n",
            "219/219 [==============================] - 1s 3ms/step - loss: 3.1940e-05 - accuracy: 1.0000\n",
            "Epoch 56/100\n",
            "219/219 [==============================] - 1s 3ms/step - loss: 3.0374e-05 - accuracy: 1.0000\n",
            "Epoch 57/100\n",
            "219/219 [==============================] - 1s 4ms/step - loss: 2.6718e-05 - accuracy: 1.0000\n",
            "Epoch 58/100\n",
            "219/219 [==============================] - 1s 4ms/step - loss: 2.2747e-05 - accuracy: 1.0000\n",
            "Epoch 59/100\n",
            "219/219 [==============================] - 1s 4ms/step - loss: 1.9734e-05 - accuracy: 1.0000\n",
            "Epoch 60/100\n",
            "219/219 [==============================] - 1s 4ms/step - loss: 1.7686e-05 - accuracy: 1.0000\n",
            "Epoch 61/100\n",
            "219/219 [==============================] - 1s 5ms/step - loss: 1.7250e-05 - accuracy: 1.0000\n",
            "Epoch 62/100\n",
            "219/219 [==============================] - 1s 4ms/step - loss: 1.4492e-05 - accuracy: 1.0000\n",
            "Epoch 63/100\n",
            "219/219 [==============================] - 1s 5ms/step - loss: 1.2119e-05 - accuracy: 1.0000\n",
            "Epoch 64/100\n",
            "219/219 [==============================] - 1s 4ms/step - loss: 1.0740e-05 - accuracy: 1.0000\n",
            "Epoch 65/100\n",
            "219/219 [==============================] - 1s 4ms/step - loss: 9.6151e-06 - accuracy: 1.0000\n",
            "Epoch 66/100\n",
            "219/219 [==============================] - 1s 3ms/step - loss: 8.6130e-06 - accuracy: 1.0000\n",
            "Epoch 67/100\n",
            "219/219 [==============================] - 1s 3ms/step - loss: 7.5314e-06 - accuracy: 1.0000\n",
            "Epoch 68/100\n",
            "219/219 [==============================] - 1s 3ms/step - loss: 6.6374e-06 - accuracy: 1.0000\n",
            "Epoch 69/100\n",
            "219/219 [==============================] - 1s 3ms/step - loss: 5.9137e-06 - accuracy: 1.0000\n",
            "Epoch 70/100\n",
            "219/219 [==============================] - 1s 3ms/step - loss: 5.5457e-06 - accuracy: 1.0000\n",
            "Epoch 71/100\n",
            "219/219 [==============================] - 1s 3ms/step - loss: 4.6300e-06 - accuracy: 1.0000\n",
            "Epoch 72/100\n",
            "219/219 [==============================] - 1s 3ms/step - loss: 4.1173e-06 - accuracy: 1.0000\n",
            "Epoch 73/100\n",
            "219/219 [==============================] - 1s 3ms/step - loss: 3.7306e-06 - accuracy: 1.0000\n",
            "Epoch 74/100\n",
            "219/219 [==============================] - 1s 5ms/step - loss: 3.3012e-06 - accuracy: 1.0000\n",
            "Epoch 75/100\n",
            "219/219 [==============================] - 1s 5ms/step - loss: 2.9689e-06 - accuracy: 1.0000\n",
            "Epoch 76/100\n",
            "219/219 [==============================] - 1s 5ms/step - loss: 2.5843e-06 - accuracy: 1.0000\n",
            "Epoch 77/100\n",
            "219/219 [==============================] - 1s 5ms/step - loss: 2.2173e-06 - accuracy: 1.0000\n",
            "Epoch 78/100\n",
            "219/219 [==============================] - 1s 5ms/step - loss: 2.0369e-06 - accuracy: 1.0000\n",
            "Epoch 79/100\n",
            "219/219 [==============================] - 1s 4ms/step - loss: 1.8063e-06 - accuracy: 1.0000\n",
            "Epoch 80/100\n",
            "219/219 [==============================] - 1s 3ms/step - loss: 1.5943e-06 - accuracy: 1.0000\n",
            "Epoch 81/100\n",
            "219/219 [==============================] - 1s 3ms/step - loss: 1.3838e-06 - accuracy: 1.0000\n",
            "Epoch 82/100\n",
            "219/219 [==============================] - 1s 3ms/step - loss: 1.2649e-06 - accuracy: 1.0000\n",
            "Epoch 83/100\n",
            "219/219 [==============================] - 1s 3ms/step - loss: 1.1280e-06 - accuracy: 1.0000\n",
            "Epoch 84/100\n",
            "219/219 [==============================] - 1s 3ms/step - loss: 9.5961e-07 - accuracy: 1.0000\n",
            "Epoch 85/100\n",
            "219/219 [==============================] - 1s 3ms/step - loss: 8.7538e-07 - accuracy: 1.0000\n",
            "Epoch 86/100\n",
            "219/219 [==============================] - 1s 3ms/step - loss: 7.9085e-07 - accuracy: 1.0000\n",
            "Epoch 87/100\n",
            "219/219 [==============================] - 1s 3ms/step - loss: 6.9957e-07 - accuracy: 1.0000\n",
            "Epoch 88/100\n",
            "219/219 [==============================] - 1s 3ms/step - loss: 6.2023e-07 - accuracy: 1.0000\n",
            "Epoch 89/100\n",
            "219/219 [==============================] - 1s 3ms/step - loss: 5.6648e-07 - accuracy: 1.0000\n",
            "Epoch 90/100\n",
            "219/219 [==============================] - 1s 3ms/step - loss: 5.2091e-07 - accuracy: 1.0000\n",
            "Epoch 91/100\n",
            "219/219 [==============================] - 1s 3ms/step - loss: 4.5228e-07 - accuracy: 1.0000\n",
            "Epoch 92/100\n",
            "219/219 [==============================] - 1s 3ms/step - loss: 4.0230e-07 - accuracy: 1.0000\n",
            "Epoch 93/100\n",
            "219/219 [==============================] - 1s 3ms/step - loss: 3.4291e-07 - accuracy: 1.0000\n",
            "Epoch 94/100\n",
            "219/219 [==============================] - 1s 4ms/step - loss: 3.1238e-07 - accuracy: 1.0000\n",
            "Epoch 95/100\n",
            "219/219 [==============================] - 1s 5ms/step - loss: 2.7774e-07 - accuracy: 1.0000\n",
            "Epoch 96/100\n",
            "219/219 [==============================] - 1s 4ms/step - loss: 2.4891e-07 - accuracy: 1.0000\n",
            "Epoch 97/100\n",
            "219/219 [==============================] - 1s 5ms/step - loss: 2.2098e-07 - accuracy: 1.0000\n",
            "Epoch 98/100\n",
            "219/219 [==============================] - 1s 4ms/step - loss: 2.0874e-07 - accuracy: 1.0000\n",
            "Epoch 99/100\n",
            "219/219 [==============================] - 1s 3ms/step - loss: 1.9010e-07 - accuracy: 1.0000\n",
            "Epoch 100/100\n",
            "219/219 [==============================] - 1s 3ms/step - loss: 1.7076e-07 - accuracy: 1.0000\n"
          ]
        },
        {
          "output_type": "execute_result",
          "data": {
            "text/plain": [
              "<keras.src.callbacks.History at 0x7c13dc426200>"
            ]
          },
          "metadata": {},
          "execution_count": 64
        }
      ]
    },
    {
      "cell_type": "code",
      "source": [
        "model.save('/content/hady_model.h5')"
      ],
      "metadata": {
        "colab": {
          "base_uri": "https://localhost:8080/"
        },
        "id": "EVfGFklz9w42",
        "outputId": "6a2c6d7f-a1ea-4761-cc0f-05326154a110"
      },
      "execution_count": null,
      "outputs": [
        {
          "output_type": "stream",
          "name": "stderr",
          "text": [
            "/usr/local/lib/python3.10/dist-packages/keras/src/engine/training.py:3000: UserWarning: You are saving your model as an HDF5 file via `model.save()`. This file format is considered legacy. We recommend using instead the native Keras format, e.g. `model.save('my_model.keras')`.\n",
            "  saving_api.save_model(\n"
          ]
        }
      ]
    },
    {
      "cell_type": "code",
      "source": [
        "loss, accuracy = model.evaluate(X_test,y_test)"
      ],
      "metadata": {
        "colab": {
          "base_uri": "https://localhost:8080/"
        },
        "id": "YXby1uIh_pKn",
        "outputId": "16aaddf6-c335-45e0-ee76-228762d364f3"
      },
      "execution_count": null,
      "outputs": [
        {
          "output_type": "stream",
          "name": "stdout",
          "text": [
            "32/32 [==============================] - 0s 3ms/step - loss: 0.3117 - accuracy: 0.9580\n"
          ]
        }
      ]
    }
  ]
}